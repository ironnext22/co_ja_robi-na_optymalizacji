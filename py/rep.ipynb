{
 "cells": [
  {
   "cell_type": "code",
   "execution_count": 17,
   "id": "initial_id",
   "metadata": {
    "collapsed": true,
    "ExecuteTime": {
     "end_time": "2023-10-12T12:33:37.004954600Z",
     "start_time": "2023-10-12T12:33:36.996146Z"
    }
   },
   "outputs": [],
   "source": [
    "import pandas as pd\n",
    "import matplotlib.pyplot as plt"
   ]
  },
  {
   "cell_type": "code",
   "execution_count": 18,
   "outputs": [
    {
     "data": {
      "text/plain": "      A              B              C\n0   0.1      0.0640747        1.22106\n1   0.2       0.229469        2.00862\n2   0.3       0.449414         2.3138\n3   0.4       0.678083        2.20116\n4   0.5       0.880236        1.80843\n..  ...            ...            ...\n95  9.6    9.97841e-05   -0.000433241\n96  9.7    5.27842e-05   -0.000489822\n97  9.8    5.06607e-06   -0.000450508\n98  9.9   -3.48965e-05   -0.000339541\n99   10   -6.15204e-05   -0.000189298\n\n[100 rows x 3 columns]",
      "text/html": "<div>\n<style scoped>\n    .dataframe tbody tr th:only-of-type {\n        vertical-align: middle;\n    }\n\n    .dataframe tbody tr th {\n        vertical-align: top;\n    }\n\n    .dataframe thead th {\n        text-align: right;\n    }\n</style>\n<table border=\"1\" class=\"dataframe\">\n  <thead>\n    <tr style=\"text-align: right;\">\n      <th></th>\n      <th>A</th>\n      <th>B</th>\n      <th>C</th>\n    </tr>\n  </thead>\n  <tbody>\n    <tr>\n      <th>0</th>\n      <td>0.1</td>\n      <td>0.0640747</td>\n      <td>1.22106</td>\n    </tr>\n    <tr>\n      <th>1</th>\n      <td>0.2</td>\n      <td>0.229469</td>\n      <td>2.00862</td>\n    </tr>\n    <tr>\n      <th>2</th>\n      <td>0.3</td>\n      <td>0.449414</td>\n      <td>2.3138</td>\n    </tr>\n    <tr>\n      <th>3</th>\n      <td>0.4</td>\n      <td>0.678083</td>\n      <td>2.20116</td>\n    </tr>\n    <tr>\n      <th>4</th>\n      <td>0.5</td>\n      <td>0.880236</td>\n      <td>1.80843</td>\n    </tr>\n    <tr>\n      <th>...</th>\n      <td>...</td>\n      <td>...</td>\n      <td>...</td>\n    </tr>\n    <tr>\n      <th>95</th>\n      <td>9.6</td>\n      <td>9.97841e-05</td>\n      <td>-0.000433241</td>\n    </tr>\n    <tr>\n      <th>96</th>\n      <td>9.7</td>\n      <td>5.27842e-05</td>\n      <td>-0.000489822</td>\n    </tr>\n    <tr>\n      <th>97</th>\n      <td>9.8</td>\n      <td>5.06607e-06</td>\n      <td>-0.000450508</td>\n    </tr>\n    <tr>\n      <th>98</th>\n      <td>9.9</td>\n      <td>-3.48965e-05</td>\n      <td>-0.000339541</td>\n    </tr>\n    <tr>\n      <th>99</th>\n      <td>10</td>\n      <td>-6.15204e-05</td>\n      <td>-0.000189298</td>\n    </tr>\n  </tbody>\n</table>\n<p>100 rows × 3 columns</p>\n</div>"
     },
     "execution_count": 18,
     "metadata": {},
     "output_type": "execute_result"
    }
   ],
   "source": [
    "w = pd.read_csv(\"symulacja_lab0.csv\", sep=\";\")\n",
    "w = w.replace(\",\",\".\",regex=True)\n",
    "w.columns = [\"A\",\"B\",\"C\",\"D\"]\n",
    "w = w.drop(columns=[\"D\"])\n",
    "w"
   ],
   "metadata": {
    "collapsed": false,
    "ExecuteTime": {
     "end_time": "2023-10-12T12:33:37.011947800Z",
     "start_time": "2023-10-12T12:33:37.001146800Z"
    }
   },
   "id": "9f9a3f3f16e3673b"
  }
 ],
 "metadata": {
  "kernelspec": {
   "display_name": "Python 3",
   "language": "python",
   "name": "python3"
  },
  "language_info": {
   "codemirror_mode": {
    "name": "ipython",
    "version": 2
   },
   "file_extension": ".py",
   "mimetype": "text/x-python",
   "name": "python",
   "nbconvert_exporter": "python",
   "pygments_lexer": "ipython2",
   "version": "2.7.6"
  }
 },
 "nbformat": 4,
 "nbformat_minor": 5
}
